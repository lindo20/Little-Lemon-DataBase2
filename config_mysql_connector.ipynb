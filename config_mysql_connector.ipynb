{
 "cells": [
  {
   "cell_type": "code",
   "execution_count": 1,
   "id": "4097190a-a3d5-4d8b-a698-76edff87c195",
   "metadata": {},
   "outputs": [],
   "source": [
    "import mysql.connector as connector"
   ]
  },
  {
   "cell_type": "code",
   "execution_count": 2,
   "id": "34157c03-a76b-483b-97aa-4e90e66ba8f7",
   "metadata": {},
   "outputs": [],
   "source": [
    "connection = connector.connect(user=\"admin1\", password=\"***********\", db=\"little_lemon_db\")"
   ]
  },
  {
   "cell_type": "code",
   "execution_count": 3,
   "id": "43da5f05-e3c4-486e-93ae-7d51951c317e",
   "metadata": {},
   "outputs": [],
   "source": [
    "cursor = connection.cursor()"
   ]
  },
  {
   "cell_type": "code",
   "execution_count": 4,
   "id": "e51f6f35-6824-4380-9844-1c149869edb6",
   "metadata": {},
   "outputs": [],
   "source": [
    "show_tables_query = \"SHOW tables\""
   ]
  },
  {
   "cell_type": "code",
   "execution_count": 5,
   "id": "c40f9862-0f97-44f3-8930-2a711e268b0d",
   "metadata": {},
   "outputs": [],
   "source": [
    "cursor.execute(show_tables_query)"
   ]
  },
  {
   "cell_type": "code",
   "execution_count": 6,
   "id": "6375eb07-cea0-4716-8292-d8867fbf9ea4",
   "metadata": {},
   "outputs": [],
   "source": [
    "results = cursor.fetchall()"
   ]
  },
  {
   "cell_type": "code",
   "execution_count": 7,
   "id": "a9d242b6-fb69-46a5-8bdb-c182445c926f",
   "metadata": {},
   "outputs": [
    {
     "name": "stdout",
     "output_type": "stream",
     "text": [
      "[('bookings',), ('customers',), ('delivery',), ('menuitems',), ('orders',), ('ordersview',), ('staff',)]\n"
     ]
    }
   ],
   "source": [
    "print(results)"
   ]
  },
  {
   "cell_type": "code",
   "execution_count": 8,
   "id": "b38c940b-9c65-4a63-9d87-4e8818e7eca4",
   "metadata": {},
   "outputs": [],
   "source": [
    "join_query = \"\"\"SELECT \n",
    "C.FullName, C.Contact, O.Cost FROM Customers AS C \n",
    "INNER JOIN Bookings AS B ON C.CustomerID = B.CustomerID\n",
    "INNER JOIN Orders AS O ON B.BookingID = O.BookingID\n",
    "WHERE O.Cost > 60\"\"\""
   ]
  },
  {
   "cell_type": "code",
   "execution_count": 9,
   "id": "9d464b6a-5e8d-4f87-bbe2-c2920952424a",
   "metadata": {},
   "outputs": [],
   "source": [
    "cursor.execute(join_query)"
   ]
  },
  {
   "cell_type": "code",
   "execution_count": 10,
   "id": "49d544e1-6b0c-494f-a989-7cd366a2105a",
   "metadata": {},
   "outputs": [],
   "source": [
    "results = cursor.fetchall()"
   ]
  },
  {
   "cell_type": "code",
   "execution_count": 11,
   "id": "29b5036c-9fac-4f70-b844-ebc943d9d973",
   "metadata": {},
   "outputs": [
    {
     "name": "stdout",
     "output_type": "stream",
     "text": [
      "[('John Smith', 43721532, Decimal('65.00')), ('Jane Smith', 43756564, Decimal('210.00')), ('Joe Roberts', 24789891, Decimal('160.00'))]\n"
     ]
    }
   ],
   "source": [
    "print(results)"
   ]
  },
  {
   "cell_type": "code",
   "execution_count": 12,
   "id": "e491bb74-fdca-4bdc-a9f7-0b4275d8fe50",
   "metadata": {},
   "outputs": [],
   "source": [
    "connection.close()"
   ]
  }
 ],
 "metadata": {
  "kernelspec": {
   "display_name": "Python 3 (ipykernel)",
   "language": "python",
   "name": "python3"
  },
  "language_info": {
   "codemirror_mode": {
    "name": "ipython",
    "version": 3
   },
   "file_extension": ".py",
   "mimetype": "text/x-python",
   "name": "python",
   "nbconvert_exporter": "python",
   "pygments_lexer": "ipython3",
   "version": "3.12.5"
  }
 },
 "nbformat": 4,
 "nbformat_minor": 5
}
